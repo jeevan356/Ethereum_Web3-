from enum import Enum
import pandas as pd
import numpy as np
from prophet import Prophet
from sklearn.metrics import mean_absolute_error, mean_squared_error, r2_score
import matplotlib.pyplot as plt

class ETHPriceRanges(Enum):
    pr_2000_2025 = 1
    pr_2025_2050 = 2
    pr_2050_2075 = 3
    pr_2075_2100 = 4
    pr_2100_2125 = 5
    pr_2125_2150 = 6
    pr_2150_2175 = 7
    pr_2175_2200 = 8
    pr_2200_2225 = 9
    pr_2225_2250 = 10
    pr_2250_2275 = 11
    pr_2275_2300 = 12
    pr_2300_2325 = 13
    pr_2325_2350 = 14
    pr_2350_2375 = 15
    pr_2375_2400 = 16
    pr_2400_2425 = 17
    pr_2425_2450 = 18
    pr_2450_2475 = 19
    pr_2475_2500 = 20
    pr_2500_2525 = 21
    pr_2525_2550 = 22
    pr_2550_2575 = 23
    pr_2575_2600 = 24
    pr_2600_2625 = 25
    pr_2625_2650 = 26
    pr_2650_2675 = 27
    pr_2675_2700 = 28
    pr_2700_2725 = 29
    pr_2725_2750 = 30
    pr_2750_2775 = 31
    pr_2775_2800 = 32
    pr_2800_2825 = 33
    pr_2825_2850 = 34
    pr_2850_2875 = 35
    pr_2875_2900 = 36
    pr_2900_2925 = 37
    pr_2925_2950 = 38
    pr_2950_2975 = 39
    pr_2975_3000 = 40
    pr_3000_3025 = 41
    pr_3025_3050 = 42
    pr_3050_3075 = 43
    pr_3075_3100 = 44
    pr_3100_3125 = 45
    pr_3125_3150 = 46
    pr_3150_3175 = 47
    pr_3175_3200 = 48
    pr_3200_3225 = 49
    pr_3225_3250 = 50
    pr_3250_3275 = 51
    pr_3275_3300 = 52
    pr_3300_3325 = 53
    pr_3325_3350 = 54
    pr_3350_3375 = 55
    pr_3375_3400 = 56
    pr_3400_3425 = 57
    pr_3425_3450 = 58
    pr_3450_3475 = 59
    pr_3475_3500 = 60
    pr_3500_3525 = 61
    pr_3525_3550 = 62
    pr_3550_3575 = 63
    pr_3575_3600 = 64
    pr_3600_3625 = 65
    pr_3625_3650 = 66
    pr_3650_3675 = 67
    pr_3675_3700 = 68
    pr_3700_3725 = 69
    pr_3725_3750 = 70
    pr_3750_3775 = 71
    pr_3775_3800 = 72
    pr_3800_3825 = 73
    pr_3825_3850 = 74
    pr_3850_3875 = 75
    pr_3875_3900 = 76
    pr_3900_3925 = 77
    pr_3925_3950 = 78
    pr_3950_3975 = 79
    pr_3975_4000 = 80

class ARBPriceRanges(Enum):
    pr_100_105 = 1
    pr_105_110 = 2
    pr_110_115 = 3
    pr_115_120 = 4
    pr_120_125 = 5
    pr_125_130 = 6
    pr_130_135 = 7
    pr_135_140 = 8
    pr_140_145 = 9
    pr_145_150 = 10
    pr_150_155 = 11
    pr_155_160 = 12
    pr_160_165 = 13
    pr_165_170 = 14
    pr_170_175 = 15
    pr_175_180 = 16
    pr_180_185 = 17
    pr_185_190 = 18
    pr_190_195 = 19
    pr_195_200 = 20
    pr_200_205 = 21
    pr_205_210 = 22
    pr_210_215 = 23
    pr_215_220 = 24

class LINKPriceRanges(Enum):
    pr_1000_1025 = 1
    pr_1025_1050 = 2
    pr_1050_1075 = 3
    pr_1075_1100 = 4
    pr_1100_1125 = 5
    pr_1125_1150 = 6
    pr_1150_1175 = 7
    pr_1175_1200 = 8
    pr_1200_1225 = 9
    pr_1225_1250 = 10
    pr_1250_1275 = 11
    pr_1275_1300 = 12
    pr_1300_1325 = 13
    pr_1325_1350 = 14
    pr_1350_1375 = 15
    pr_1375_1400 = 16
    pr_1400_1425 = 17
    pr_1425_1450 = 18
    pr_1450_1475 = 19
    pr_1475_1500 = 20
    pr_1500_1525 = 21
    pr_1525_1550 = 22
    pr_1550_1575 = 23
    pr_1575_1600 = 24
    pr_1600_1625 = 25
    pr_1625_1650 = 26
    pr_1650_1675 = 27
    pr_1675_1700 = 28
    pr_1700_1725 = 29
    pr_1725_1750 = 30
    pr_1750_1775 = 31
    pr_1775_1800 = 32
    pr_1800_1825 = 33


    #here is the loding data ("so please download the csv file and then just upload it google colab once it is done, prediction will be done")

def load_data(file_path):
    try:
        df = pd.read_csv(file_path, index_col='Date', parse_dates=['Date'], dayfirst=True)
        df = df.reindex(index=df.index[::-1])
        return df
    except ValueError as e:
        if 'Nah' in str(e):
            print(f"Error loading data from {file_path}: {e}")
            return None
        else:
            raise e

def prepare_data(df):
    if df is None:
        return None


#         Input Validation:
# Checks if the input DataFrame df is None. If it is, the function returns None.
# DataFrame Preparation:
# df_prophet = df.reset_index(): Resets the index of the DataFrame df and assigns the result to a new DataFrame df_prophet.
# df_prophet = df_prophet.rename(columns={'Date': 'ds', 'Price': 'y', 'Open': 'open', 'High': 'high', 'Low': 'low', 'Vol.': 'volume', 'Change %': 'change_percent'}): Renames columns in the DataFrame df_prophet to match the format expected by a Prophet model. Specifically, it renames columns:
# 'Date' to 'ds'
# 'Price' to 'y'
# 'Open' to 'open'
# 'High' to 'high'
# 'Low' to 'low'
# 'Vol.' to 'volume'
# 'Change %' to 'change_percent'
# Data Type Conversion:
# df_prophet['y'] = df_prophet['y'].astype(str).str.replace(',', '').astype(float): Converts the 'y' column (presumably representing price) to a string, removes any commas in the string representation, and then converts it to a floating-point number.
# df_prophet['open'] = df_prophet['open'].astype(str).str.replace(',', '').astype(float): Similar to the previous line, converts the 'open' column to a float after removing commas.
# df_prophet['high'] = df_prophet['high'].astype(str).str.replace(',', '').astype(float): Similar to the previous line, converts the 'high' column to a float after removing commas.
# df_prophet['low'] = df_prophet['low'].astype(str).str.replace(',', '').astype(float)

    df_prophet = df.reset_index()
    df_prophet = df_prophet.rename(columns={'Date': 'ds', 'Price': 'y', 'Open': 'open', 'High': 'high', 'Low': 'low', 'Vol.': 'volume', 'Change %': 'change_percent'})

    # Convert these columns to the correct data types
    df_prophet['y'] = df_prophet['y'].astype(str).str.replace(',', '').astype(float)
    df_prophet['open'] = df_prophet['open'].astype(str).str.replace(',', '').astype(float)
    df_prophet['high'] = df_prophet['high'].astype(str).str.replace(',', '').astype(float)
    df_prophet['low'] = df_prophet['low'].astype(str).str.replace(',', '').astype(float)

    import re

    def convert_volume(value):
        if isinstance(value, str):
            if value.endswith('M'):
                return float(value[:-1]) * 1e6
            elif value.endswith('K'):
                return float(value[:-1]) * 1e3
            elif value.endswith('B'):
                return float(value[:-1]) * 1e9
            else:
                return float(value)
        else:
            return value

    df_prophet['volume'] = df_prophet['volume'].apply(convert_volume)
    df_prophet['change_percent'] = df_prophet['change_percent'].str.replace('%', '').str.replace(',', '').astype(float)
    return df_prophet

# Create the Prophet model
def create_model():
    model = Prophet(
        changepoint_prior_scale=10,
        holidays_prior_scale=15,
        seasonality_mode='multiplicative',
        seasonality_prior_scale=30,
        yearly_seasonality=True,
        weekly_seasonality=True,
        daily_seasonality=True
    )
    model.add_country_holidays(country_name='US')
    model.add_regressor('open')
    model.add_regressor('high')
    model.add_regressor('low')
    model.add_regressor('volume')
    model.add_regressor('change_percent')
    return model

# Evaluate the model
def evaluate_model(df_prophet, model):
    if df_prophet is None:
        return None, None, None, None

    train_data = df_prophet[:-7]
    test_data = df_prophet[-7:]
    train_forecast = model.predict(train_data)
    test_forecast = model.predict(test_data)

    train_mae = mean_absolute_error(train_data['y'], train_forecast['yhat'])
    train_mse = mean_squared_error(train_data['y'], train_forecast['yhat'])
    train_r2 = r2_score(train_data['y'], train_forecast['yhat'])

    test_mae = mean_absolute_error(test_data['y'], test_forecast['yhat'])
    test_mse = mean_squared_error(test_data['y'], test_forecast['yhat'])
    test_r2 = r2_score(test_data['y'], test_forecast['yhat'])

    print(f"Train MAE: {train_mae:.2f}")
    print(f"Train MSE: {train_mse:.2f}")
    print(f"Train R-squared: {train_r2:.2f}")
    print(f"Test MAE: {test_mae:.2f}")
    print(f"Test MSE: {test_mse:.2f}")
    print(f"Test R-squared: {test_r2:.2f}")

    return train_data, test_data, train_forecast, test_forecast

# Make the forecast
def make_forecast(df_prophet, model, periods=1):
    if df_prophet is None:
        return None

    future = model.make_future_dataframe(periods=periods)
    future['open'] = df_prophet['open'].iloc[-1]
    future['high'] = df_prophet['high'].iloc[-1]
    future['low'] = df_prophet['low'].iloc[-1]
    future['volume'] = df_prophet['volume'].iloc[-1]
    future['change_percent'] = df_prophet['change_percent'].iloc[-1]
    forecast = model.predict(future)
    return forecast



def price_to_range(price):
    if 2000 <= price < 2025:
        return ETHPriceRanges.pr_2000_2025
    elif 2025 <= price < 2050:
        return ETHPriceRanges.pr_2025_2050
    elif 2050 <= price < 2075:
        return ETHPriceRanges.pr_2050_2075
    elif 2075 <= price < 2100:
        return ETHPriceRanges.pr_2075_2100
    elif 2100 <= price < 2125:
        return ETHPriceRanges.pr_2100_2125
    elif 2125 <= price < 2150:
        return ETHPriceRanges.pr_2125_2150
    elif 2150 <= price < 2175:
        return ETHPriceRanges.pr_2150_2175
    elif 2175 <= price < 2200:
        return ETHPriceRanges.pr_2175_2200
    elif 2200 <= price < 2225:
        return ETHPriceRanges.pr_2200_2225
    elif 2225 <= price < 2250:
        return ETHPriceRanges.pr_2225_2250
    elif 2250 <= price < 2275:
        return ETHPriceRanges.pr_2250_2275
    elif 2275 <= price < 2300:
        return ETHPriceRanges.pr_2275_2300
    elif 2300 <= price < 2325:
        return ETHPriceRanges.pr_2300_2325
    elif 2325 <= price < 2350:
        return ETHPriceRanges.pr_2325_2350
    elif 2350 <= price < 2375:
        return ETHPriceRanges.pr_2350_2375
    elif 2375 <= price < 2400:
        return ETHPriceRanges.pr_2375_2400
    elif 2400 <= price < 2425:
        return ETHPriceRanges.pr_2400_2425
    elif 2425 <= price < 2450:
        return ETHPriceRanges.pr_2425_2450
    elif 2450 <= price < 2475:
        return ETHPriceRanges.pr_2450_2475
    elif 2475 <= price < 2500:
        return ETHPriceRanges.pr_2475_2500
    elif 2500 <= price < 2525:
        return ETHPriceRanges.pr_2500_2525
    elif 2525 <= price < 2550:
        return ETHPriceRanges.pr_2525_2550
    elif 2550 <= price < 2575:
        return ETHPriceRanges.pr_2550_2575
    elif 2575 <= price < 2600:
        return ETHPriceRanges.pr_2575_2600
    elif 2600 <= price < 2625:
        return ETHPriceRanges.pr_2600_2625
    elif 2625 <= price < 2650:
        return ETHPriceRanges.pr_2625_2650
    elif 2650 <= price < 2675:
        return ETHPriceRanges.pr_2650_2675
    elif 2675 <= price < 2700:
        return ETHPriceRanges.pr_2675_2700
    elif 2700 <= price < 2725:
        return ETHPriceRanges.pr_2700_2725
    elif 2725 <= price < 2750:
        return ETHPriceRanges.pr_2725_2750
    elif 2750 <= price < 2775:
        return ETHPriceRanges.pr_2750_2775
    elif 2775 <= price < 2800:
        return ETHPriceRanges.pr_2775_2800
    elif 2800 <= price < 2825:
        return ETHPriceRanges.pr_2800_2825
    elif 2825 <= price < 2850:
        return ETHPriceRanges.pr_2825_2850
    elif 2850 <= price < 2875:
        return ETHPriceRanges.pr_2850_2875
    elif 2875 <= price < 2900:
        return ETHPriceRanges.pr_2875_2900
    elif 2900 <= price < 2925:
        return ETHPriceRanges.pr_2900_2925
    elif 2925 <= price < 2950:
        return ETHPriceRanges.pr_2925_2950
    elif 2950 <= price < 2975:
        return ETHPriceRanges.pr_2950_2975
    elif 2975 <= price < 3000:
        return ETHPriceRanges.pr_2975_3000
    elif 3000 <= price < 3025:
        return ETHPriceRanges.pr_3000_3025
    elif 3025 <= price < 3050:
        return ETHPriceRanges.pr_3025_3050
    elif 3050 <= price < 3075:
        return ETHPriceRanges.pr_3050_3075
    elif 3075 <= price < 3100:
        return ETHPriceRanges.pr_3075_3100
    elif 3100 <= price < 3125:
        return ETHPriceRanges.pr_3100_3125
    elif 3125 <= price < 3150:
        return ETHPriceRanges.pr_3125_3150
    elif 3150 <= price < 3175:
        return ETHPriceRanges.pr_3150_3175
    elif 3175 <= price < 3200:
        return ETHPriceRanges.pr_3175_3200
    elif 3200 <= price < 3225:
        return ETHPriceRanges.pr_3200_3225
    elif 3225 <= price < 3250:
        return ETHPriceRanges.pr_3225_3250
    elif 3250 <= price < 3275:
        return ETHPriceRanges.pr_3250_3275
    elif 3275 <= price < 3300:
        return ETHPriceRanges.pr_3275_3300
    elif 3300 <= price < 3325:
        return ETHPriceRanges.pr_3300_3325
    elif 3325 <= price < 3350:
        return ETHPriceRanges.pr_3325_3350
    elif 3350 <= price < 3375:
        return ETHPriceRanges.pr_3350_3375
    elif 3375 <= price < 3400:
        return ETHPriceRanges.pr_3375_3400
    elif 3400 <= price < 3425:
        return ETHPriceRanges.pr_3400_3425
    elif 3425 <= price < 3450:
        return ETHPriceRanges.pr_3425_3450
    elif 3450 <= price < 3475:
        return ETHPriceRanges.pr_3450_3475
    elif 3475 <= price < 3500:
        return ETHPriceRanges.pr_3475_3500
    elif 3500 <= price < 3525:
        return ETHPriceRanges.pr_3500_3525
    elif 3525 <= price < 3550:
        return ETHPriceRanges.pr_3525_3550
    elif 3550 <= price < 3575:
        return ETHPriceRanges.pr_3550_3575
    elif 3575 <= price < 3600:
        return ETHPriceRanges.pr_3575_3600
    elif 3600 <= price < 3625:
        return ETHPriceRanges.pr_3600_3625
    elif 3625 <= price < 3650:
        return ETHPriceRanges.pr_3625_3650
    elif 3650 <= price < 3675:
        return ETHPriceRanges.pr_3650_3675
    elif 3675 <= price < 3700:
        return ETHPriceRanges.pr_3675_3700
    elif 3700 <= price < 3725:
        return ETHPriceRanges.pr_3700_3725
    elif 3725 <= price < 3750:
        return ETHPriceRanges.pr_3725_3750
    elif 3750 <= price < 3775:
        return ETHPriceRanges.pr_3750_3775
    elif 3775 <= price < 3800:
        return ETHPriceRanges.pr_3775_3800
    elif 3800 <= price < 3825:
        return ETHPriceRanges.pr_3800_3825
    elif 3825 <= price < 3850:
        return ETHPriceRanges.pr_3825_3850
    elif 3850 <= price < 3875:
        return ETHPriceRanges.pr_3850_3875
    elif 3875 <= price < 3900:
        return ETHPriceRanges.pr_3875_3900
    elif 3900 <= price < 3925:
        return ETHPriceRanges.pr_3900_3925
    elif 3925 <= price < 3950:
        return ETHPriceRanges.pr_3925_3950
    elif 3950 <= price < 3975:
        return ETHPriceRanges.pr_3950_3975
    elif 3975 <= price < 4000:
        return ETHPriceRanges.pr_3975_4000
    else:
        return None

def price_to_range_arb(price):
    if 1.00 <= price < 1.05:
        return ARBPriceRanges.pr_100_105
    elif 1.05 <= price < 1.10:
        return ARBPriceRanges.pr_105_110
    elif 1.10 <= price < 1.15:
        return ARBPriceRanges.pr_110_115
    elif 1.15 <= price < 1.20:
        return ARBPriceRanges.pr_115_120
    elif 1.20 <= price < 1.25:
        return ARBPriceRanges.pr_120_125
    elif 1.25 <= price < 1.30:
        return ARBPriceRanges.pr_125_130
    elif 1.30 <= price < 1.35:
        return ARBPriceRanges.pr_130_135
    elif 1.35 <= price < 1.40:
        return ARBPriceRanges.pr_135_140
    elif 1.40 <= price < 1.45:
        return ARBPriceRanges.pr_140_145
    elif 1.45 <= price < 1.50:
        return ARBPriceRanges.pr_145_150
    elif 1.50 <= price < 1.55:
        return ARBPriceRanges.pr_150_155
    elif 1.55 <= price < 1.60:
        return ARBPriceRanges.pr_155_160
    elif 1.60 <= price < 1.65:
        return ARBPriceRanges.pr_160_165
    elif 1.65 <= price < 1.70:
        return ARBPriceRanges.pr_165_170
    elif 1.70 <= price < 1.75:
        return ARBPriceRanges.pr_170_175
    elif 1.75 <= price < 1.80:
        return ARBPriceRanges.pr_175_180
    elif 1.80 <= price < 1.85:
        return ARBPriceRanges.pr_180_185
    elif 1.85 <= price < 1.90:
        return ARBPriceRanges.pr_185_190
    elif 1.90 <= price < 1.95:
        return ARBPriceRanges.pr_190_195
    elif 1.95 <= price < 2.00:
        return ARBPriceRanges.pr_195_200
    elif 2.00 <= price < 2.05:
        return ARBPriceRanges.pr_200_205
    elif 2.05 <= price < 2.10:
        return ARBPriceRanges.pr_205_210
    elif 2.10 <= price < 2.15:
        return ARBPriceRanges.pr_210_215
    elif 2.15 <= price < 2.20:
        return ARBPriceRanges.pr_215_220
    else:
        return None

def price_to_range_link(price):
    if 10.00 <= price < 10.25:
        return LINKPriceRanges.pr_1000_1025
    elif 10.25 <= price < 10.50:
        return LINKPriceRanges.pr_1025_1050
    elif 10.50 <= price < 10.75:
        return LINKPriceRanges.pr_1050_1075
    elif 10.75 <= price < 11.00:
        return LINKPriceRanges.pr_1075_1100
    elif 11.00 <= price < 11.25:
        return LINKPriceRanges.pr_1100_1125
    elif 11.25 <= price < 11.50:
        return LINKPriceRanges.pr_1125_1150
    elif 11.50 <= price < 11.75:
        return LINKPriceRanges.pr_1150_1175
    elif 11.75 <= price < 12.00:
        return LINKPriceRanges.pr_1175_1200
    elif 12.00 <= price < 12.25:
        return LINKPriceRanges.pr_1200_1225
    elif 12.25 <= price < 12.50:
        return LINKPriceRanges.pr_1225_1250
    elif 12.50 <= price < 12.75:
        return LINKPriceRanges.pr_1250_1275
    elif 12.75 <= price < 13.00:
        return LINKPriceRanges.pr_1275_1300
    elif 13.00 <= price < 13.25:
        return LINKPriceRanges.pr_1300_1325
    elif 13.25 <= price < 13.50:
        return LINKPriceRanges.pr_1325_1350
    elif 13.50 <= price < 13.75:
        return LINKPriceRanges.pr_1350_1375
    elif 13.75 <= price < 14.00:
        return LINKPriceRanges.pr_1375_1400
    elif 14.00 <= price < 14.25:
        return LINKPriceRanges.pr_1400_1425
    elif 14.25 <= price < 14.50:
        return LINKPriceRanges.pr_1425_1450
    elif 14.50 <= price < 14.75:
        return LINKPriceRanges.pr_1450_1475
    elif 14.75 <= price < 15.00:
        return LINKPriceRanges.pr_1475_1500
    elif 15.00 <= price < 15.25:
        return LINKPriceRanges.pr_1500_1525
    elif 15.25 <= price < 15.50:
        return LINKPriceRanges.pr_1525_1550
    elif 15.50 <= price < 15.75:
        return LINKPriceRanges.pr_1550_1575
    elif 15.75 <= price < 16.00:
        return LINKPriceRanges.pr_1575_1600
    elif 16.00 <= price < 16.25:
        return LINKPriceRanges.pr_1600_1625
    elif 16.25 <= price < 16.50:
        return LINKPriceRanges.pr_1625_1650
    elif 16.50 <= price < 16.75:
        return LINKPriceRanges.pr_1650_1675
    elif 16.75 <= price < 17.00:
        return LINKPriceRanges.pr_1675_1700
    elif 17.00 <= price < 17.25:
        return LINKPriceRanges.pr_1700_1725
    elif 17.25 <= price < 17.50:
        return LINKPriceRanges.pr_1725_1750
    elif 17.50 <= price < 17.75:
        return LINKPriceRanges.pr_1750_1775
    elif 17.75 <= price < 18.00:
        return LINKPriceRanges.pr_1775_1800
    elif 18.00 <= price < 18.25:
        return LINKPriceRanges.pr_1800_1825
    else:
        return None




def get_price_range(yhat_value):
    lower_bound = round(yhat_value / 25) * 25
    upper_bound = lower_bound + 25
    return f"{lower_bound}-{upper_bound}"

# Load the data
ethereum_df = load_data('/content/Ethereum Historical Data (1).csv')
if ethereum_df is not None:
    ethereum_df_prophet = prepare_data(ethereum_df)
else:
    ethereum_df_prophet = None

arbitrum_df = load_data('/content/Arbitrum Historical Data (1).csv')
if arbitrum_df is not None:
    arbitrum_df_prophet = prepare_data(arbitrum_df)
else:
    arbitrum_df_prophet = None

chainlink_df = load_data('/content/Chainlink Historical Data (1).csv')
if chainlink_df is not None:
    chainlink_df_prophet = prepare_data(chainlink_df)
else:
    chainlink_df_prophet = None

ethereum_model = create_model()
ethereum_model.fit(ethereum_df_prophet)

arbitrum_model = create_model()
arbitrum_model.fit(arbitrum_df_prophet)

chainlink_model = create_model()
chainlink_model.fit(chainlink_df_prophet)


ethereum_train_data, ethereum_test_data, ethereum_train_forecast, ethereum_test_forecast = evaluate_model(ethereum_df_prophet, ethereum_model)
arbitrum_train_data, arbitrum_test_data, arbitrum_train_forecast, arbitrum_test_forecast = evaluate_model(arbitrum_df_prophet, arbitrum_model)
chainlink_train_data, chainlink_test_data, chainlink_train_forecast, chainlink_test_forecast = evaluate_model(chainlink_df_prophet, chainlink_model)


ethereum_forecast = make_forecast(ethereum_df_prophet, ethereum_model)
arbitrum_forecast = make_forecast(arbitrum_df_prophet, arbitrum_model)
chainlink_forecast = make_forecast(chainlink_df_prophet, chainlink_model)



# Display the 17-day forecasts
if ethereum_forecast is not None:
    print("17-Day Ethereum Price Forecast:")
    ethereum_forecast['price_range'] = ethereum_forecast['yhat'].apply(price_to_range)
    print(ethereum_forecast[['ds', 'yhat', 'price_range']][-10:])

if arbitrum_forecast is not None:
    print("\n17-Day Arbitrum Price Forecast:")
    arbitrum_forecast['price_range'] = arbitrum_forecast['yhat'].apply(price_to_range_arb)
    print(arbitrum_forecast[['ds', 'yhat', 'price_range']][-10:])

if chainlink_forecast is not None:
    print("\n17-Day Chainlink Price Forecast:")
    chainlink_forecast['price_range'] = chainlink_forecast['yhat'].apply(price_to_range_link)
    print(chainlink_forecast[['ds', 'yhat', 'price_range']][-10:])
